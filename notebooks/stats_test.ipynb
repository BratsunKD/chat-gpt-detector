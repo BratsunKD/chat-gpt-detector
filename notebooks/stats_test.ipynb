{
 "cells": [
  {
   "cell_type": "code",
   "execution_count": 28,
   "id": "f548caab-a260-4c7e-bf15-b1fddcbd8ff4",
   "metadata": {},
   "outputs": [],
   "source": [
    "import pandas as pd\n",
    "import numpy as np\n",
    "from scipy.stats import norm"
   ]
  },
  {
   "cell_type": "markdown",
   "id": "822451f2-0edd-479e-bd15-b1488dace632",
   "metadata": {},
   "source": [
    "### Скачаем данные"
   ]
  },
  {
   "cell_type": "code",
   "execution_count": 3,
   "id": "2779d2e3-4ef2-480a-9b4d-bb7f8ca2d39f",
   "metadata": {},
   "outputs": [],
   "source": [
    "df = pd.read_csv(\"Book2.csv\")"
   ]
  },
  {
   "cell_type": "code",
   "execution_count": 12,
   "id": "5ad7867a-8624-42ad-b923-34578f98cc38",
   "metadata": {},
   "outputs": [],
   "source": [
    "X = df.values"
   ]
  },
  {
   "cell_type": "code",
   "execution_count": 56,
   "id": "47497377-2560-4a88-8974-0cb942c56827",
   "metadata": {},
   "outputs": [],
   "source": [
    "m0 = 0.56\n",
    "x_mean = np.mean(X)\n",
    "x_s0 = np.var(X, ddof=1)\n",
    "n = len(X)\n",
    "a = 0.05"
   ]
  },
  {
   "cell_type": "code",
   "execution_count": 57,
   "id": "6e058cf7-31e4-49b3-9e0b-eb3187aa2807",
   "metadata": {},
   "outputs": [
    {
     "data": {
      "text/plain": [
       "(0.00616447439155937, 0.569215337240664, 241, 0.56)"
      ]
     },
     "execution_count": 57,
     "metadata": {},
     "output_type": "execute_result"
    }
   ],
   "source": [
    "x_s0, x_mean, n, m0"
   ]
  },
  {
   "cell_type": "markdown",
   "id": "b468ad52-5cbb-4273-84de-6d54759cb272",
   "metadata": {},
   "source": [
    "### Гипотеза что мат. ожидание распределения вероятностей > 0.55 = m0\n",
    "Проведем правосторонний t-test:\n",
    "\n",
    "уровень значимости: a = 0.05\n",
    "\n",
    "H0 : m = m0\n",
    "\n",
    "H1 : m > m0"
   ]
  },
  {
   "cell_type": "code",
   "execution_count": 58,
   "id": "6f4c296d-40a4-4f27-ba6c-8dc1f219a419",
   "metadata": {},
   "outputs": [],
   "source": [
    "# выборочная статистика\n",
    "\n",
    "z = (x_mean - m0)/ (x_s0/ n**0.5)"
   ]
  },
  {
   "cell_type": "code",
   "execution_count": 61,
   "id": "012044f5-095a-4512-a9cb-f29d41d7f980",
   "metadata": {},
   "outputs": [
    {
     "data": {
      "text/plain": [
       "0.0"
      ]
     },
     "execution_count": 61,
     "metadata": {},
     "output_type": "execute_result"
    }
   ],
   "source": [
    "# p-value\n",
    "\n",
    "p = 1 - norm.cdf(z) \n",
    "p "
   ]
  },
  {
   "cell_type": "markdown",
   "id": "8356a835-7c4c-4d17-95d0-fa24cdf977f3",
   "metadata": {},
   "source": [
    "### Отвергаем гипотезу, тк p-value < 0.05 => m > m0"
   ]
  }
 ],
 "metadata": {
  "kernelspec": {
   "display_name": "Python 3 (ipykernel)",
   "language": "python",
   "name": "python3"
  },
  "language_info": {
   "codemirror_mode": {
    "name": "ipython",
    "version": 3
   },
   "file_extension": ".py",
   "mimetype": "text/x-python",
   "name": "python",
   "nbconvert_exporter": "python",
   "pygments_lexer": "ipython3",
   "version": "3.12.4"
  }
 },
 "nbformat": 4,
 "nbformat_minor": 5
}
